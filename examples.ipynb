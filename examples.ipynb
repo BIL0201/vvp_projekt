{
 "cells": [
  {
   "cell_type": "code",
   "execution_count": null,
   "id": "c32b7838",
   "metadata": {},
   "outputs": [],
   "source": [
    "import os\n",
    "import glob\n",
    "import numpy as np"
   ]
  },
  {
   "cell_type": "code",
   "execution_count": null,
   "id": "c818bb88",
   "metadata": {},
   "outputs": [],
   "source": [
    "from knihovna.solve_maze import solve\n",
    "from knihovna.save_to_image import solved_maze_to_image\n",
    "\n",
    "# Tento skript načte všechny CSV soubory z adresáře \"data\",\n",
    "# vyřeší labyrinty a uloží výsledky jako obrázky do složky solved_mazes.\n",
    "\n",
    "data_folder = \"data\"\n",
    "csv_files = glob.glob(os.path.join(data_folder, \"*.csv\"))\n",
    "\n",
    "for csv_path in csv_files:\n",
    "    matrix = np.loadtxt(csv_path, delimiter=\",\")\n",
    "    binary_matrix = (matrix == 0)\n",
    "    result = solve(binary_matrix)\n",
    "\n",
    "    if result is not None:\n",
    "        path_map, length, path_steps = result\n",
    "        name = os.path.splitext(os.path.basename(csv_path))[0]\n",
    "        # získáme jméno souboru bez přípony .csv\n",
    "        solved_maze_to_image(binary_matrix, path_map, binary_matrix.shape[0], nazev=name)\n",
    "    else:\n",
    "        print(\"Žádná cesta nenalezena, obrázek nebude vytvořen.\")"
   ]
  },
  {
   "cell_type": "code",
   "execution_count": null,
   "id": "7136b797",
   "metadata": {},
   "outputs": [],
   "source": [
    "from knihovna.save_to_image import generated_maze_to_image\n",
    "from knihovna.maze_generator import create_maze\n",
    "\n",
    "# Generování labyrintů a jejich ukládání jako obrázky\n",
    "# Vytvoříme 5 různých labyrintů s různými parametry\n",
    "# a uložíme je jako obrázky do složky generated_mazes.\n",
    "\n",
    "for i in range(5):\n",
    "    maze = create_maze(30, i + 1)\n",
    "    name = f\"generated_maze_{i}\"\n",
    "    generated_maze_to_image(maze, 30, nazev=name)"
   ]
  }
 ],
 "metadata": {
  "kernelspec": {
   "display_name": "Python 3",
   "language": "python",
   "name": "python3"
  },
  "language_info": {
   "name": "python",
   "version": "3.10.12"
  }
 },
 "nbformat": 4,
 "nbformat_minor": 5
}
